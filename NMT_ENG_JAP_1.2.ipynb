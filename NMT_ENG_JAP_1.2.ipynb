{
  "nbformat": 4,
  "nbformat_minor": 0,
  "metadata": {
    "colab": {
      "name": "NMT_ENG_JAP.ipynb",
      "provenance": [],
      "collapsed_sections": [],
      "mount_file_id": "1LE7bdLLqnSejEDnd0KilwPiIYf1rCqIn",
      "authorship_tag": "ABX9TyNgJroeumchR6IAIXebhIxb",
      "include_colab_link": true
    },
    "kernelspec": {
      "name": "python3",
      "display_name": "Python 3"
    }
  },
  "cells": [
    {
      "cell_type": "markdown",
      "metadata": {
        "id": "view-in-github",
        "colab_type": "text"
      },
      "source": [
        "<a href=\"https://colab.research.google.com/github/ByronBlaze/nmt_jpn_eng/blob/main/NMT_ENG_JAP_1.2.ipynb\" target=\"_parent\"><img src=\"https://colab.research.google.com/assets/colab-badge.svg\" alt=\"Open In Colab\"/></a>"
      ]
    },
    {
      "cell_type": "code",
      "metadata": {
        "id": "_J-a9r8TKvqY"
      },
      "source": [
        "import pandas as pd\n",
        "import numpy as np\n",
        "import string\n",
        "from string import digits\n",
        "import matplotlib.pyplot as plt\n",
        "import matplotlib.ticker as ticker\n",
        "import tensorflow as tf\n",
        "from sklearn.model_selection import train_test_split\n",
        "import re\n",
        "import os\n",
        "import io\n",
        "import time\n"
      ],
      "execution_count": 1,
      "outputs": []
    },
    {
      "cell_type": "code",
      "metadata": {
        "id": "AlCqVYueLQdO"
      },
      "source": [
        "os.chdir('/content/drive/My Drive/Projects/NMT')"
      ],
      "execution_count": 2,
      "outputs": []
    },
    {
      "cell_type": "code",
      "metadata": {
        "id": "GfgNxeIyP-qV"
      },
      "source": [
        "text_path = 'eng_jpn2.txt'"
      ],
      "execution_count": 3,
      "outputs": []
    },
    {
      "cell_type": "code",
      "metadata": {
        "id": "_2NXEHE1TRS0"
      },
      "source": [
        "df = pd.read_table(text_path, names=['source', 'target', 'comments'])\n",
        "df_new = df[['source', 'target']]\n",
        "df_new.to_csv('eng_jpn2.txt',sep='\\t',header= False, index=None)"
      ],
      "execution_count": null,
      "outputs": []
    },
    {
      "cell_type": "code",
      "metadata": {
        "id": "xo-8zVC8Un4l"
      },
      "source": [
        ""
      ],
      "execution_count": null,
      "outputs": []
    },
    {
      "cell_type": "code",
      "metadata": {
        "id": "C6XaTopKL7Cu",
        "outputId": "98c45ed3-0cd0-4cc9-cf9b-aff9c22742da",
        "colab": {
          "base_uri": "https://localhost:8080/",
          "height": 198
        }
      },
      "source": [
        "text_data = pd.read_csv(text_path,sep = '\\t',names=['source', 'target'])\n",
        "#text_data = pd.read_csv(text_path, header=None, names=['source', 'target'])\n",
        "text_data.sample(5)"
      ],
      "execution_count": 4,
      "outputs": [
        {
          "output_type": "execute_result",
          "data": {
            "text/html": [
              "<div>\n",
              "<style scoped>\n",
              "    .dataframe tbody tr th:only-of-type {\n",
              "        vertical-align: middle;\n",
              "    }\n",
              "\n",
              "    .dataframe tbody tr th {\n",
              "        vertical-align: top;\n",
              "    }\n",
              "\n",
              "    .dataframe thead th {\n",
              "        text-align: right;\n",
              "    }\n",
              "</style>\n",
              "<table border=\"1\" class=\"dataframe\">\n",
              "  <thead>\n",
              "    <tr style=\"text-align: right;\">\n",
              "      <th></th>\n",
              "      <th>source</th>\n",
              "      <th>target</th>\n",
              "    </tr>\n",
              "  </thead>\n",
              "  <tbody>\n",
              "    <tr>\n",
              "      <th>51847</th>\n",
              "      <td>Tom solved the puzzle after Mary gave him a fe...</td>\n",
              "      <td>メアリーにヒントをいくつか教えてもらってから、トムはそのパズルを解いた。</td>\n",
              "    </tr>\n",
              "    <tr>\n",
              "      <th>15740</th>\n",
              "      <td>He is a baseball player.</td>\n",
              "      <td>彼は野球選手だ。</td>\n",
              "    </tr>\n",
              "    <tr>\n",
              "      <th>35950</th>\n",
              "      <td>She glanced shyly at the young man.</td>\n",
              "      <td>彼女はその若者を恥ずかしそうにちらりと見た。</td>\n",
              "    </tr>\n",
              "    <tr>\n",
              "      <th>37406</th>\n",
              "      <td>The experiment confirmed his theory.</td>\n",
              "      <td>この実験で彼の学説はいっそう強固なものになった。</td>\n",
              "    </tr>\n",
              "    <tr>\n",
              "      <th>4056</th>\n",
              "      <td>I was too small.</td>\n",
              "      <td>私は小さすぎた。</td>\n",
              "    </tr>\n",
              "  </tbody>\n",
              "</table>\n",
              "</div>"
            ],
            "text/plain": [
              "                                                  source                                target\n",
              "51847  Tom solved the puzzle after Mary gave him a fe...  メアリーにヒントをいくつか教えてもらってから、トムはそのパズルを解いた。\n",
              "15740                           He is a baseball player.                              彼は野球選手だ。\n",
              "35950                She glanced shyly at the young man.                彼女はその若者を恥ずかしそうにちらりと見た。\n",
              "37406               The experiment confirmed his theory.              この実験で彼の学説はいっそう強固なものになった。\n",
              "4056                                    I was too small.                              私は小さすぎた。"
            ]
          },
          "metadata": {
            "tags": []
          },
          "execution_count": 4
        }
      ]
    },
    {
      "cell_type": "code",
      "metadata": {
        "id": "Oh5-IFxBRIjh",
        "outputId": "900d282e-5443-4302-e1f1-d3533c6baea0",
        "colab": {
          "base_uri": "https://localhost:8080/",
          "height": 198
        }
      },
      "source": [
        "text_data.drop(columns=['comments'], inplace=True)\n",
        "text_data.sample(5)"
      ],
      "execution_count": null,
      "outputs": [
        {
          "output_type": "execute_result",
          "data": {
            "text/html": [
              "<div>\n",
              "<style scoped>\n",
              "    .dataframe tbody tr th:only-of-type {\n",
              "        vertical-align: middle;\n",
              "    }\n",
              "\n",
              "    .dataframe tbody tr th {\n",
              "        vertical-align: top;\n",
              "    }\n",
              "\n",
              "    .dataframe thead th {\n",
              "        text-align: right;\n",
              "    }\n",
              "</style>\n",
              "<table border=\"1\" class=\"dataframe\">\n",
              "  <thead>\n",
              "    <tr style=\"text-align: right;\">\n",
              "      <th></th>\n",
              "      <th>source</th>\n",
              "      <th>target</th>\n",
              "    </tr>\n",
              "  </thead>\n",
              "  <tbody>\n",
              "    <tr>\n",
              "      <th>40176</th>\n",
              "      <td>Tom isn't what he was three years ago.</td>\n",
              "      <td>トムはもう３年前のトムじゃないんだ。</td>\n",
              "    </tr>\n",
              "    <tr>\n",
              "      <th>39369</th>\n",
              "      <td>He was involved in a traffic accident.</td>\n",
              "      <td>彼は交通事故に遭った。</td>\n",
              "    </tr>\n",
              "    <tr>\n",
              "      <th>32554</th>\n",
              "      <td>Is the coffee too strong for you?</td>\n",
              "      <td>コーヒーって、濃すぎた？</td>\n",
              "    </tr>\n",
              "    <tr>\n",
              "      <th>49944</th>\n",
              "      <td>Beginning next week, we'll be using a new text...</td>\n",
              "      <td>来週から新しい教科書を使います。</td>\n",
              "    </tr>\n",
              "    <tr>\n",
              "      <th>36083</th>\n",
              "      <td>The children are playing with toys.</td>\n",
              "      <td>子供たちがおもちゃで遊んでいる。</td>\n",
              "    </tr>\n",
              "  </tbody>\n",
              "</table>\n",
              "</div>"
            ],
            "text/plain": [
              "                                                  source              target\n",
              "40176             Tom isn't what he was three years ago.  トムはもう３年前のトムじゃないんだ。\n",
              "39369             He was involved in a traffic accident.         彼は交通事故に遭った。\n",
              "32554                  Is the coffee too strong for you?        コーヒーって、濃すぎた？\n",
              "49944  Beginning next week, we'll be using a new text...    来週から新しい教科書を使います。\n",
              "36083                The children are playing with toys.    子供たちがおもちゃで遊んでいる。"
            ]
          },
          "metadata": {
            "tags": []
          },
          "execution_count": 37
        }
      ]
    },
    {
      "cell_type": "code",
      "metadata": {
        "id": "6wI9pOGfSfoN"
      },
      "source": [
        "np.savetxt(r'jpn_eng.txt', text_data.values, fmt='%s')"
      ],
      "execution_count": null,
      "outputs": []
    },
    {
      "cell_type": "code",
      "metadata": {
        "id": "grCYbNJVMnlr"
      },
      "source": [
        "def clean_text(line):\n",
        "\n",
        "  num_digits = str.maketrans('','', digits)\n",
        "  line = line.lower()\n",
        "  line = re.sub(\" +\", \" \", line)\n",
        "  line = re.sub(\"'\", '', line)\n",
        "  line = line.translate(num_digits)\n",
        "  line = re.sub(r\"([?.!,¿])\", r\" \\1 \", line)\n",
        "  line = line.rstrip().strip()\n",
        "  line = 'START_ ' + line + ' _END'\n",
        "\n",
        "  return line \n"
      ],
      "execution_count": 5,
      "outputs": []
    },
    {
      "cell_type": "code",
      "metadata": {
        "id": "-9WCG3YPODOP",
        "outputId": "727bea49-98ce-4392-b4e6-5934da8b6844",
        "colab": {
          "base_uri": "https://localhost:8080/",
          "height": 35
        }
      },
      "source": [
        "print(clean_text('text cleaning checker !!'))"
      ],
      "execution_count": null,
      "outputs": [
        {
          "output_type": "stream",
          "text": [
            "START_ text cleaning checker  !  ! _END\n"
          ],
          "name": "stdout"
        }
      ]
    },
    {
      "cell_type": "code",
      "metadata": {
        "id": "w83Tb4rvO3pW"
      },
      "source": [
        "def create_lang_pair(path,sample_size):\n",
        "  \n",
        "  lines = io.open(path, encoding='UTF-8').read().strip().split('\\n')\n",
        "\n",
        "  word_pairs = [[clean_text(l) for l in line.split('\\t')] for line in lines[:sample_size]]\n",
        "\n",
        "  return zip(*word_pairs)\n"
      ],
      "execution_count": 6,
      "outputs": []
    },
    {
      "cell_type": "code",
      "metadata": {
        "id": "LansIggOQJUh"
      },
      "source": [
        "sample_size = 60000\n",
        "source, target = create_lang_pair(text_path, sample_size)"
      ],
      "execution_count": 7,
      "outputs": []
    },
    {
      "cell_type": "code",
      "metadata": {
        "id": "M5C_GyntQLE_",
        "outputId": "bba27ee5-f6dd-4e64-c19a-312b9d186b9d",
        "colab": {
          "base_uri": "https://localhost:8080/",
          "height": 92
        }
      },
      "source": [
        "print(source[-1])\n",
        "print(target[-1])\n",
        "type(target)"
      ],
      "execution_count": 8,
      "outputs": [
        {
          "output_type": "stream",
          "text": [
            "START_ if someone who doesnt know your background says that you sound like a native speaker ,  it means they probably noticed something about your speaking that made them realize you werent a native speaker .  in other words ,  you dont really sound like a native speaker . _END\n",
            "START_ 生い立ちを知らない人にネイティブみたいに聞こえるよって言われたら、それはおそらく、あなたの喋り方のどこかが、ネイティブじゃないと感じさせたってことだよ。つまりね、ネイティブのようには聞こえないということなんだよ。 _END\n"
          ],
          "name": "stdout"
        },
        {
          "output_type": "execute_result",
          "data": {
            "text/plain": [
              "tuple"
            ]
          },
          "metadata": {
            "tags": []
          },
          "execution_count": 8
        }
      ]
    },
    {
      "cell_type": "code",
      "metadata": {
        "id": "AQfsjCFwXJt-"
      },
      "source": [
        "source_sentence_tokenizer = tf.keras.preprocessing.text.Tokenizer(filters='')\n",
        "source_sentence_tokenizer.fit_on_texts(source)"
      ],
      "execution_count": 9,
      "outputs": []
    },
    {
      "cell_type": "code",
      "metadata": {
        "id": "lnju6-yZZOwf"
      },
      "source": [
        "source_tensor = source_sentence_tokenizer.texts_to_sequences(source)\n"
      ],
      "execution_count": 10,
      "outputs": []
    },
    {
      "cell_type": "code",
      "metadata": {
        "id": "kLtXn0oRZXAl"
      },
      "source": [
        "source_tensor = tf.keras.preprocessing.sequence.pad_sequences(source_tensor, padding='post')"
      ],
      "execution_count": 11,
      "outputs": []
    },
    {
      "cell_type": "code",
      "metadata": {
        "id": "Jt03bCtfZf-y"
      },
      "source": [
        "target_sentence_tokenizer = tf.keras.preprocessing.text.Tokenizer(filters='')\n",
        "target_sentence_tokenizer.fit_on_texts(target)\n",
        "target_tensor = source_sentence_tokenizer.texts_to_sequences(target)\n",
        "target_tensor = tf.keras.preprocessing.sequence.pad_sequences(target_tensor, padding='post')\n"
      ],
      "execution_count": 12,
      "outputs": []
    },
    {
      "cell_type": "code",
      "metadata": {
        "id": "sUzS5rIoZwwn"
      },
      "source": [
        "source_train_tensor, source_test_tensor, target_train_tensor, test_target_tensor = train_test_split(source_tensor, target_tensor, test_size=0.2)"
      ],
      "execution_count": 13,
      "outputs": []
    },
    {
      "cell_type": "code",
      "metadata": {
        "id": "CPIOAzxBaDhQ"
      },
      "source": [
        "BATCH_SIZE = 64\n",
        "df = tf.data.Dataset.from_tensor_slices((source_train_tensor, target_train_tensor)).shuffle(batch_size)\n",
        "df = df.batch(batch_size, drop_remainder=True)"
      ],
      "execution_count": 16,
      "outputs": []
    },
    {
      "cell_type": "code",
      "metadata": {
        "id": "VOpo0F0Kcc7e",
        "outputId": "67e8a290-e23d-4977-9dc2-6d3aa2a892ed",
        "colab": {
          "base_uri": "https://localhost:8080/",
          "height": 54
        }
      },
      "source": [
        "source_batch, target_batch = next(iter(df))\n",
        "print(source_batch.shape)\n",
        "print(target_batch.shape)"
      ],
      "execution_count": 15,
      "outputs": [
        {
          "output_type": "stream",
          "text": [
            "(64, 50)\n",
            "(64, 5)\n"
          ],
          "name": "stdout"
        }
      ]
    },
    {
      "cell_type": "code",
      "metadata": {
        "id": "ZuiGOM_1cmJd"
      },
      "source": [
        "BUFFER_SIZE = len(source_train_tensor)\n",
        "steps_per_epoch = len(source_train_tensor)//BATCH_SIZE\n",
        "embedding_dim= 256\n",
        "units =1024\n",
        "source_vocab_size = len(source_sentence_tokenizer.word_index)+1\n",
        "target_vocab_size = len(target_sentence_tokenizer.word_index)+1\n"
      ],
      "execution_count": 17,
      "outputs": []
    },
    {
      "cell_type": "code",
      "metadata": {
        "id": "87GB9ge44oE5"
      },
      "source": [
        "class Encoder(tf.keras.Model):\n",
        "  def __init__(self, vocab_size, embedding_dim, encoder_units, batch_size):\n",
        "    super(Encoder, self).__init__()\n",
        "    self.batch_size = batch_size\n",
        "    self.encoder_units = encoder_units\n",
        "    self.embedding = tf.keras.layers.Embedding(vocab_size, embedding_dim)\n",
        "    self.gru = tf.keras.layers.GRU(encoder_units, return_sequences = True, return_state=True,recurrent_initializer ='glorot_uniform')\n",
        "\n",
        "  def call(self, x, hidden):\n",
        "    x = self.embedding(x)\n",
        "    output, state = self.gru(x, initial_state=hidden)\n",
        "    return output, state\n",
        "  \n",
        "  def initialize_hidden_state(self):\n",
        "    return tf.zeros((self.batch_size, self.encoder_units))"
      ],
      "execution_count": 22,
      "outputs": []
    },
    {
      "cell_type": "code",
      "metadata": {
        "id": "u5xEQEX68Rv_",
        "outputId": "cf16a3f6-6beb-4bd8-87c0-fbf4d4569323",
        "colab": {
          "base_uri": "https://localhost:8080/",
          "height": 54
        }
      },
      "source": [
        "encoder = Encoder(source_vocab_size, embedding_dim,units, BATCH_SIZE)\n",
        "sample_hidden = encoder.initialize_hidden_state()\n",
        "sample_output, sample_hidden = encoder(source_batch, sample_hidden)\n",
        "\n",
        "print ('Encoder output shape: (batch size, sequence length, units) {}'.format(sample_output.shape))\n",
        "print ('Encoder Hidden state shape: (batch size, units) {}'.format(sample_hidden.shape))\n"
      ],
      "execution_count": 23,
      "outputs": [
        {
          "output_type": "stream",
          "text": [
            "Encoder output shape: (batch size, sequence length, units) (64, 50, 1024)\n",
            "Encoder Hidden state shape: (batch size, units) (64, 1024)\n"
          ],
          "name": "stdout"
        }
      ]
    },
    {
      "cell_type": "code",
      "metadata": {
        "id": "RDYfUPuw88LK"
      },
      "source": [
        ""
      ],
      "execution_count": null,
      "outputs": []
    }
  ]
}