{
  "nbformat": 4,
  "nbformat_minor": 0,
  "metadata": {
    "colab": {
      "name": "NMT_ENG_JAP.ipynb",
      "provenance": [],
      "collapsed_sections": [],
      "mount_file_id": "1LE7bdLLqnSejEDnd0KilwPiIYf1rCqIn",
      "authorship_tag": "ABX9TyPB2zp+MM4Pnybiky/COQxK",
      "include_colab_link": true
    },
    "kernelspec": {
      "name": "python3",
      "display_name": "Python 3"
    }
  },
  "cells": [
    {
      "cell_type": "markdown",
      "metadata": {
        "id": "view-in-github",
        "colab_type": "text"
      },
      "source": [
        "<a href=\"https://colab.research.google.com/github/ByronBlaze/nmt_jpn_eng/blob/master/NMT_ENG_JAP.ipynb\" target=\"_parent\"><img src=\"https://colab.research.google.com/assets/colab-badge.svg\" alt=\"Open In Colab\"/></a>"
      ]
    },
    {
      "cell_type": "code",
      "metadata": {
        "id": "_J-a9r8TKvqY"
      },
      "source": [
        "import pandas as pd\n",
        "import numpy as np\n",
        "import string\n",
        "from string import digits\n",
        "import matplotlib.pyplot as plt\n",
        "import matplotlib.ticker as ticker\n",
        "import tensorflow as tf\n",
        "from sklearn.model_selection import train_test_split\n",
        "import re\n",
        "import os\n",
        "import io\n",
        "import time\n"
      ],
      "execution_count": 2,
      "outputs": []
    },
    {
      "cell_type": "code",
      "metadata": {
        "id": "AlCqVYueLQdO"
      },
      "source": [
        "os.chdir('/content/drive/My Drive/Projects/NMT')"
      ],
      "execution_count": 3,
      "outputs": []
    },
    {
      "cell_type": "code",
      "metadata": {
        "id": "GfgNxeIyP-qV"
      },
      "source": [
        "text_path = 'eng_jpn2.txt'"
      ],
      "execution_count": 87,
      "outputs": []
    },
    {
      "cell_type": "code",
      "metadata": {
        "id": "_2NXEHE1TRS0"
      },
      "source": [
        "df = pd.read_table(text_path, names=['source', 'target', 'comments'])\n",
        "df_new = df[['source', 'target']]\n",
        "df_new.to_csv('eng_jpn2.txt',sep='\\t',header= False, index=None)"
      ],
      "execution_count": 86,
      "outputs": []
    },
    {
      "cell_type": "code",
      "metadata": {
        "id": "xo-8zVC8Un4l"
      },
      "source": [
        ""
      ],
      "execution_count": null,
      "outputs": []
    },
    {
      "cell_type": "code",
      "metadata": {
        "id": "C6XaTopKL7Cu",
        "outputId": "0ab5fa23-1409-43e5-f846-0b27af8cf769",
        "colab": {
          "base_uri": "https://localhost:8080/",
          "height": 233
        }
      },
      "source": [
        "text_data = pd.read_csv(text_path,sep = '\\t',names=['source', 'target'])\n",
        "#text_data = pd.read_csv(text_path, header=None, names=['source', 'target'])\n",
        "text_data.sample(5)"
      ],
      "execution_count": 89,
      "outputs": [
        {
          "output_type": "execute_result",
          "data": {
            "text/html": [
              "<div>\n",
              "<style scoped>\n",
              "    .dataframe tbody tr th:only-of-type {\n",
              "        vertical-align: middle;\n",
              "    }\n",
              "\n",
              "    .dataframe tbody tr th {\n",
              "        vertical-align: top;\n",
              "    }\n",
              "\n",
              "    .dataframe thead th {\n",
              "        text-align: right;\n",
              "    }\n",
              "</style>\n",
              "<table border=\"1\" class=\"dataframe\">\n",
              "  <thead>\n",
              "    <tr style=\"text-align: right;\">\n",
              "      <th></th>\n",
              "      <th>source</th>\n",
              "      <th>target</th>\n",
              "    </tr>\n",
              "  </thead>\n",
              "  <tbody>\n",
              "    <tr>\n",
              "      <th>54403</th>\n",
              "      <td>Are you seriously thinking about buying a comp...</td>\n",
              "      <td>本気であの店からコンピューターを買おうと思っているんですか？</td>\n",
              "    </tr>\n",
              "    <tr>\n",
              "      <th>23247</th>\n",
              "      <td>How much did that beer cost?</td>\n",
              "      <td>そのビールいくらだった？</td>\n",
              "    </tr>\n",
              "    <tr>\n",
              "      <th>50340</th>\n",
              "      <td>Don't go near the water until you learn how to...</td>\n",
              "      <td>泳ぎ方を覚えるまで、水に近寄ってはいけません。</td>\n",
              "    </tr>\n",
              "    <tr>\n",
              "      <th>36963</th>\n",
              "      <td>I haven't seen her since last month.</td>\n",
              "      <td>私は先月から彼女に会っていない。</td>\n",
              "    </tr>\n",
              "    <tr>\n",
              "      <th>14850</th>\n",
              "      <td>The boy started crying.</td>\n",
              "      <td>その男の子は泣き始めました。</td>\n",
              "    </tr>\n",
              "  </tbody>\n",
              "</table>\n",
              "</div>"
            ],
            "text/plain": [
              "                                                  source                          target\n",
              "54403  Are you seriously thinking about buying a comp...  本気であの店からコンピューターを買おうと思っているんですか？\n",
              "23247                       How much did that beer cost?                    そのビールいくらだった？\n",
              "50340  Don't go near the water until you learn how to...         泳ぎ方を覚えるまで、水に近寄ってはいけません。\n",
              "36963               I haven't seen her since last month.                私は先月から彼女に会っていない。\n",
              "14850                            The boy started crying.                  その男の子は泣き始めました。"
            ]
          },
          "metadata": {
            "tags": []
          },
          "execution_count": 89
        }
      ]
    },
    {
      "cell_type": "code",
      "metadata": {
        "id": "Oh5-IFxBRIjh",
        "outputId": "900d282e-5443-4302-e1f1-d3533c6baea0",
        "colab": {
          "base_uri": "https://localhost:8080/",
          "height": 198
        }
      },
      "source": [
        "text_data.drop(columns=['comments'], inplace=True)\n",
        "text_data.sample(5)"
      ],
      "execution_count": 37,
      "outputs": [
        {
          "output_type": "execute_result",
          "data": {
            "text/html": [
              "<div>\n",
              "<style scoped>\n",
              "    .dataframe tbody tr th:only-of-type {\n",
              "        vertical-align: middle;\n",
              "    }\n",
              "\n",
              "    .dataframe tbody tr th {\n",
              "        vertical-align: top;\n",
              "    }\n",
              "\n",
              "    .dataframe thead th {\n",
              "        text-align: right;\n",
              "    }\n",
              "</style>\n",
              "<table border=\"1\" class=\"dataframe\">\n",
              "  <thead>\n",
              "    <tr style=\"text-align: right;\">\n",
              "      <th></th>\n",
              "      <th>source</th>\n",
              "      <th>target</th>\n",
              "    </tr>\n",
              "  </thead>\n",
              "  <tbody>\n",
              "    <tr>\n",
              "      <th>40176</th>\n",
              "      <td>Tom isn't what he was three years ago.</td>\n",
              "      <td>トムはもう３年前のトムじゃないんだ。</td>\n",
              "    </tr>\n",
              "    <tr>\n",
              "      <th>39369</th>\n",
              "      <td>He was involved in a traffic accident.</td>\n",
              "      <td>彼は交通事故に遭った。</td>\n",
              "    </tr>\n",
              "    <tr>\n",
              "      <th>32554</th>\n",
              "      <td>Is the coffee too strong for you?</td>\n",
              "      <td>コーヒーって、濃すぎた？</td>\n",
              "    </tr>\n",
              "    <tr>\n",
              "      <th>49944</th>\n",
              "      <td>Beginning next week, we'll be using a new text...</td>\n",
              "      <td>来週から新しい教科書を使います。</td>\n",
              "    </tr>\n",
              "    <tr>\n",
              "      <th>36083</th>\n",
              "      <td>The children are playing with toys.</td>\n",
              "      <td>子供たちがおもちゃで遊んでいる。</td>\n",
              "    </tr>\n",
              "  </tbody>\n",
              "</table>\n",
              "</div>"
            ],
            "text/plain": [
              "                                                  source              target\n",
              "40176             Tom isn't what he was three years ago.  トムはもう３年前のトムじゃないんだ。\n",
              "39369             He was involved in a traffic accident.         彼は交通事故に遭った。\n",
              "32554                  Is the coffee too strong for you?        コーヒーって、濃すぎた？\n",
              "49944  Beginning next week, we'll be using a new text...    来週から新しい教科書を使います。\n",
              "36083                The children are playing with toys.    子供たちがおもちゃで遊んでいる。"
            ]
          },
          "metadata": {
            "tags": []
          },
          "execution_count": 37
        }
      ]
    },
    {
      "cell_type": "code",
      "metadata": {
        "id": "6wI9pOGfSfoN"
      },
      "source": [
        "np.savetxt(r'jpn_eng.txt', text_data.values, fmt='%s')"
      ],
      "execution_count": 41,
      "outputs": []
    },
    {
      "cell_type": "code",
      "metadata": {
        "id": "grCYbNJVMnlr"
      },
      "source": [
        "def clean_text(line):\n",
        "\n",
        "  num_digits = str.maketrans('','', digits)\n",
        "  line = line.lower()\n",
        "  line = re.sub(\" +\", \" \", line)\n",
        "  line = re.sub(\"'\", '', line)\n",
        "  line = line.translate(num_digits)\n",
        "  line = re.sub(r\"([?.!,¿])\", r\" \\1 \", line)\n",
        "  line = line.rstrip().strip()\n",
        "  line = 'START_ ' + line + ' _END'\n",
        "\n",
        "  return line \n"
      ],
      "execution_count": 90,
      "outputs": []
    },
    {
      "cell_type": "code",
      "metadata": {
        "id": "-9WCG3YPODOP",
        "outputId": "727bea49-98ce-4392-b4e6-5934da8b6844",
        "colab": {
          "base_uri": "https://localhost:8080/",
          "height": 35
        }
      },
      "source": [
        "print(clean_text('text cleaning checker !!'))"
      ],
      "execution_count": 73,
      "outputs": [
        {
          "output_type": "stream",
          "text": [
            "START_ text cleaning checker  !  ! _END\n"
          ],
          "name": "stdout"
        }
      ]
    },
    {
      "cell_type": "code",
      "metadata": {
        "id": "w83Tb4rvO3pW"
      },
      "source": [
        "def create_lang_pair(path,sample_size):\n",
        "  \n",
        "  lines = io.open(path, encoding='UTF-8').read().strip().split('\\n')\n",
        "\n",
        "  word_pairs = [[clean_text(l) for l in line.split('\\t')] for line in lines[:sample_size]]\n",
        "\n",
        "  return zip(*word_pairs)\n"
      ],
      "execution_count": 91,
      "outputs": []
    },
    {
      "cell_type": "code",
      "metadata": {
        "id": "LansIggOQJUh"
      },
      "source": [
        "sample_size = 60000\n",
        "source, target = create_lang_pair(text_path, sample_size)"
      ],
      "execution_count": 92,
      "outputs": []
    },
    {
      "cell_type": "code",
      "metadata": {
        "id": "M5C_GyntQLE_",
        "outputId": "7d0db539-6d49-4732-fadc-eb0866f80860",
        "colab": {
          "base_uri": "https://localhost:8080/",
          "height": 92
        }
      },
      "source": [
        "print(source[-1])\n",
        "print(target[-1])\n",
        "type(target)"
      ],
      "execution_count": 93,
      "outputs": [
        {
          "output_type": "stream",
          "text": [
            "START_ if someone who doesnt know your background says that you sound like a native speaker ,  it means they probably noticed something about your speaking that made them realize you werent a native speaker .  in other words ,  you dont really sound like a native speaker . _END\n",
            "START_ 生い立ちを知らない人にネイティブみたいに聞こえるよって言われたら、それはおそらく、あなたの喋り方のどこかが、ネイティブじゃないと感じさせたってことだよ。つまりね、ネイティブのようには聞こえないということなんだよ。 _END\n"
          ],
          "name": "stdout"
        },
        {
          "output_type": "execute_result",
          "data": {
            "text/plain": [
              "tuple"
            ]
          },
          "metadata": {
            "tags": []
          },
          "execution_count": 93
        }
      ]
    },
    {
      "cell_type": "code",
      "metadata": {
        "id": "AQfsjCFwXJt-"
      },
      "source": [
        "source_sentence_tokenizer = tf.keras.preprocessing.text.Tokenizer(filters='')\n",
        "source_sentence_tokenizer.fit_on_texts(source)"
      ],
      "execution_count": 94,
      "outputs": []
    },
    {
      "cell_type": "code",
      "metadata": {
        "id": "lnju6-yZZOwf"
      },
      "source": [
        "source_tensor = source_sentence_tokenizer.texts_to_sequences(source)\n"
      ],
      "execution_count": 95,
      "outputs": []
    },
    {
      "cell_type": "code",
      "metadata": {
        "id": "kLtXn0oRZXAl"
      },
      "source": [
        "source_tensor = tf.keras.preprocessing.sequence.pad_sequences(source_tensor, padding='post')"
      ],
      "execution_count": 97,
      "outputs": []
    },
    {
      "cell_type": "code",
      "metadata": {
        "id": "Jt03bCtfZf-y"
      },
      "source": [
        "target_sentence_tokenizer = tf.keras.preprocessing.text.Tokenizer(filters='')\n",
        "target_sentence_tokenizer.fit_on_texts(target)\n",
        "target_tensor = source_sentence_tokenizer.texts_to_sequences(target)\n",
        "target_tensor = tf.keras.preprocessing.sequence.pad_sequences(target_tensor, padding='post')\n"
      ],
      "execution_count": 98,
      "outputs": []
    },
    {
      "cell_type": "code",
      "metadata": {
        "id": "sUzS5rIoZwwn"
      },
      "source": [
        "source_train_tensor, source_test_tensor, target_train_tensor, test_target_tensor = train_test_split(source_tensor, target_tensor, test_size=0.2)"
      ],
      "execution_count": 101,
      "outputs": []
    },
    {
      "cell_type": "code",
      "metadata": {
        "id": "CPIOAzxBaDhQ"
      },
      "source": [
        "batch_size = 64\n",
        "df = tf.data.Dataset.from_tensor_slices((source_train_tensor, target_train_tensor)).shuffle(batch_size)\n",
        "df = df.batch(batch_size, drop_remainder=True)"
      ],
      "execution_count": 102,
      "outputs": []
    },
    {
      "cell_type": "code",
      "metadata": {
        "id": "VOpo0F0Kcc7e",
        "outputId": "d8c1b6fd-f44c-4099-8a95-96811d3f446e",
        "colab": {
          "base_uri": "https://localhost:8080/",
          "height": 54
        }
      },
      "source": [
        "source_batch, target_batch = next(iter(df))\n",
        "print(source_batch.shape)\n",
        "print(target_batch.shape)"
      ],
      "execution_count": 106,
      "outputs": [
        {
          "output_type": "stream",
          "text": [
            "(64, 50)\n",
            "(64, 5)\n"
          ],
          "name": "stdout"
        }
      ]
    },
    {
      "cell_type": "code",
      "metadata": {
        "id": "ZuiGOM_1cmJd"
      },
      "source": [
        ""
      ],
      "execution_count": null,
      "outputs": []
    }
  ]
}